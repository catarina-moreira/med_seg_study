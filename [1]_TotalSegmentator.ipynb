{
 "cells": [
  {
   "cell_type": "markdown",
   "metadata": {
    "id": "bW_OkFKOz22k"
   },
   "source": [
    "# TOTAL SEGMENTATOR Notebook Study\n",
    "\n",
    "Note: if running in Google Colab, make sure you select T4 as the GPU"
   ]
  },
  {
   "cell_type": "markdown",
   "metadata": {},
   "source": [
    "## SETUP"
   ]
  },
  {
   "cell_type": "markdown",
   "metadata": {},
   "source": [
    "### Load Environment Variables"
   ]
  },
  {
   "cell_type": "code",
   "execution_count": 2,
   "metadata": {
    "colab": {
     "base_uri": "https://localhost:8080/"
    },
    "id": "6YTjNnia0CoI",
    "outputId": "13a0817e-f20e-4a17-9ac1-a01c475e207e"
   },
   "outputs": [],
   "source": [
    "COLAB = False\n",
    "\n",
    "if COLAB:\n",
    "    from google.colab import drive\n",
    "    drive.mount('/content/drive', force_remount=True)"
   ]
  },
  {
   "cell_type": "code",
   "execution_count": 3,
   "metadata": {},
   "outputs": [
    {
     "name": "stdout",
     "output_type": "stream",
     "text": [
      "HOME:  /home/catarina/Documents/GitHub/med_seg_study\n",
      "DATA_PATH:  /media/catarina/SHARGE DISK/Totalsegmentator_dataset_V201\n",
      "PREDICTIONS_PATH:  /home/catarina/Documents/GitHub/med_seg_study/outputs/Predictions\n"
     ]
    }
   ],
   "source": [
    "import os\n",
    "from utils.filepaths import *\n",
    "\n",
    "HOME = os.getcwd()\n",
    "os.chdir(HOME)\n",
    "\n",
    "DATA_PATH = TOTAL_SEGM_PATH\n",
    "PREDICTIONS_PATH = f\"{HOME}/outputs/Predictions\"\n",
    "\n",
    "print(\"HOME: \", HOME)\n",
    "print(\"DATA_PATH: \", DATA_PATH)\n",
    "print(\"PREDICTIONS_PATH: \", PREDICTIONS_PATH)\n"
   ]
  },
  {
   "cell_type": "markdown",
   "metadata": {},
   "source": [
    "### Install Packages"
   ]
  },
  {
   "cell_type": "markdown",
   "metadata": {},
   "source": [
    "### Imports"
   ]
  },
  {
   "cell_type": "code",
   "execution_count": 4,
   "metadata": {},
   "outputs": [],
   "source": [
    "import os\n",
    "from totalsegmentator.python_api import totalsegmentator\n",
    "\n"
   ]
  },
  {
   "cell_type": "code",
   "execution_count": 5,
   "metadata": {},
   "outputs": [
    {
     "name": "stdout",
     "output_type": "stream",
     "text": [
      "Pandas version:  2.2.3\n",
      "Numpy version:  1.26.4\n"
     ]
    }
   ],
   "source": [
    "# check pandas and numpy versions\n",
    "import pandas as pd\n",
    "import numpy as np\n",
    "\n",
    "print(\"Pandas version: \", pd.__version__)\n",
    "print(\"Numpy version: \", np.__version__)\n"
   ]
  },
  {
   "cell_type": "markdown",
   "metadata": {
    "id": "4Wkd7CU8IYBQ"
   },
   "source": [
    "## Total Segmentator Example"
   ]
  },
  {
   "cell_type": "code",
   "execution_count": 6,
   "metadata": {
    "colab": {
     "base_uri": "https://localhost:8080/"
    },
    "id": "Z9EXvjaiSYc5",
    "outputId": "debfe40d-60ea-4cdc-a89d-3c328e1e042f"
   },
   "outputs": [
    {
     "name": "stdout",
     "output_type": "stream",
     "text": [
      "Input file path:  /media/catarina/SHARGE DISK/Totalsegmentator_dataset_V201/s0001/ct.nii.gz\n",
      "Output directory:  /home/catarina/Documents/GitHub/med_seg_study/outputs/Predictions/s0001\n"
     ]
    }
   ],
   "source": [
    "\n",
    "patient_ID = \"s0001\"\n",
    "organ = \"colon\"\n",
    "\n",
    "input_image_path =  os.path.join(DATA_PATH,  patient_ID, \"ct.nii.gz\" )\n",
    "preprocessed_path =  os.path.join(DATA_PATH,  patient_ID, \"ct_processed.nii.gz\" )\n",
    "\n",
    "path_to_mask = os.path.join(patient_ID, \"segmentations\", f\"{organ}_preprocessed.nii.gz\")\n",
    "mask_filepath = os.path.join(DATA_PATH, path_to_mask)\n",
    "\n",
    "output_dir = os.path.join(PREDICTIONS_PATH, patient_ID)\n",
    "\n",
    "print(\"Input file path: \", input_image_path)\n",
    "print(\"Output directory: \", output_dir)\n",
    "\n",
    "# Ensure output directory exists\n",
    "os.makedirs(output_dir, exist_ok=True)\n",
    "\n"
   ]
  },
  {
   "cell_type": "markdown",
   "metadata": {},
   "source": [
    "### Full Body Segmentation"
   ]
  },
  {
   "cell_type": "markdown",
   "metadata": {},
   "source": [
    "An online tool can be found here: https://totalsegmentator.com/"
   ]
  },
  {
   "cell_type": "code",
   "execution_count": 7,
   "metadata": {
    "colab": {
     "base_uri": "https://localhost:8080/",
     "height": 444,
     "referenced_widgets": [
      "ec38b62dc1304dd4b944e79d9e73015e",
      "a75257ef5c1d4525a095f4272552fce9",
      "f532929637904b00828bacb86728fd44",
      "451fb9166b724d9fb77b7c5c80aa4464",
      "a9dd47a4b0c94cfca958f1d3c1c21f91",
      "aae7fc6845d34597aae249b3f89a6ef8",
      "7f59e5b27a304371bc54c26cc3317271",
      "3f9b006b843c4947a584972a2ed60f3f",
      "f7a56ef60f6c4456b3e33c3a988eb9ac",
      "c57d578600604d168057c191880d983b",
      "1fbbf0d2ef664cb9bc4e87327a6f6e05"
     ]
    },
    "id": "SWpM0TK8P9CK",
    "outputId": "7342da75-1e81-4d07-bac7-b78f477cdfb5"
   },
   "outputs": [
    {
     "name": "stdout",
     "output_type": "stream",
     "text": [
      "\n",
      "If you use this tool please cite: https://pubs.rsna.org/doi/10.1148/ryai.230024\n",
      "\n",
      "Resampling...\n",
      "  Resampled in 3.93s\n",
      "Predicting part 1 of 5 ...\n"
     ]
    },
    {
     "name": "stderr",
     "output_type": "stream",
     "text": [
      "100%|██████████| 12/12 [00:02<00:00,  4.64it/s]\n"
     ]
    },
    {
     "name": "stdout",
     "output_type": "stream",
     "text": [
      "Predicting part 2 of 5 ...\n"
     ]
    },
    {
     "name": "stderr",
     "output_type": "stream",
     "text": [
      "100%|██████████| 12/12 [00:01<00:00,  8.81it/s]\n"
     ]
    },
    {
     "name": "stdout",
     "output_type": "stream",
     "text": [
      "Predicting part 3 of 5 ...\n"
     ]
    },
    {
     "name": "stderr",
     "output_type": "stream",
     "text": [
      "100%|██████████| 12/12 [00:01<00:00,  8.71it/s]\n"
     ]
    },
    {
     "name": "stdout",
     "output_type": "stream",
     "text": [
      "Predicting part 4 of 5 ...\n"
     ]
    },
    {
     "name": "stderr",
     "output_type": "stream",
     "text": [
      "100%|██████████| 12/12 [00:01<00:00,  8.92it/s]\n"
     ]
    },
    {
     "name": "stdout",
     "output_type": "stream",
     "text": [
      "Predicting part 5 of 5 ...\n"
     ]
    },
    {
     "name": "stderr",
     "output_type": "stream",
     "text": [
      "100%|██████████| 12/12 [00:01<00:00,  8.46it/s]\n"
     ]
    },
    {
     "name": "stdout",
     "output_type": "stream",
     "text": [
      "  Predicted in 59.46s\n",
      "Resampling...\n",
      "Saving segmentations...\n",
      "  Saved in 2.00s\n",
      "An error occurred: Cannot slice image objects; consider using `img.slicer[slice]` to generate a sliced image (see documentation for caveats) or slicing image array data with `img.dataobj[slice]` or `img.get_fdata()[slice]`\n",
      "Segmentation Complete.\n"
     ]
    }
   ],
   "source": [
    "# Define task and device\n",
    "task = \"total\"       # Full-body segmentation\n",
    "device = \"gpu\"       # Set to \"mps\" if using a mac with an M1 > chip, \n",
    "                     #\"gpu\" if available, otherwise \"cpu\"\n",
    "\n",
    "try:\n",
    "  seg_img, stats = totalsegmentator(input=preprocessed_path,\n",
    "                                    output=output_dir,\n",
    "                                    task=task,\n",
    "                                    device=device,\n",
    "                                    statistics=False)\n",
    "except TypeError as e:\n",
    "  print(f\"An error occurred: {e}\")\n",
    "\n",
    "print(\"Segmentation Complete.\")\n"
   ]
  },
  {
   "cell_type": "markdown",
   "metadata": {},
   "source": [
    "### Colon Segmentation Visualiation"
   ]
  },
  {
   "cell_type": "code",
   "execution_count": 8,
   "metadata": {},
   "outputs": [],
   "source": [
    "\n",
    "import os\n",
    "from utils.filepaths import *\n",
    "\n",
    "from eval.metrics import *\n",
    "from utils.data_processing import *\n",
    "from utils.data_viz import *\n",
    "from utils.data_geometry import *"
   ]
  },
  {
   "cell_type": "code",
   "execution_count": 10,
   "metadata": {},
   "outputs": [
    {
     "name": "stdout",
     "output_type": "stream",
     "text": [
      "Saving mesh to /home/catarina/Documents/GitHub/med_seg_study/mesh/s0001/colon_preprocessed.nii.gz.obj\n",
      "Saving mesh to /home/catarina/Documents/GitHub/med_seg_study/outputs/3d_reconstruction/s0001/colon_preprocessed.nii.gz.html\n"
     ]
    },
    {
     "data": {
      "application/vnd.jupyter.widget-view+json": {
       "model_id": "9988e9eea53b434cab99bac4672e1b9a",
       "version_major": 2,
       "version_minor": 0
      },
      "text/plain": [
       "Widget(value='<iframe src=\"http://localhost:42271/index.html?ui=P_0x71b649344230_0&reconnect=auto\" class=\"pyvi…"
      ]
     },
     "metadata": {},
     "output_type": "display_data"
    }
   ],
   "source": [
    "from IPython.display import HTML\n",
    "\n",
    "mesh = generate_3d_reconstruction(mask_filepath, id=patient_ID);\n",
    "reconstruction_path_GT = visualize_mesh(mesh, mask_filepath, id=patient_ID, opacity=1);\n",
    "\n"
   ]
  },
  {
   "cell_type": "code",
   "execution_count": null,
   "metadata": {},
   "outputs": [
    {
     "ename": "",
     "evalue": "",
     "output_type": "error",
     "traceback": [
      "\u001b[1;31mnotebook controller is DISPOSED. \n",
      "\u001b[1;31mView Jupyter <a href='command:jupyter.viewOutput'>log</a> for further details."
     ]
    }
   ],
   "source": [
    "from IPython.display import HTML\n",
    "\n",
    "mesh_PR = generate_3d_reconstruction(predicted_mask_filepath, id=patient_ID, isPrediction=True);\n",
    "reconstruction_path_PR = visualize_mesh(mesh_PR, predicted_mask_filepath, id=patient_ID, opacity=1, isPrediction=True);\n",
    "display(HTML(reconstruction_path_PR));\n",
    "plt.close()\n",
    "\n"
   ]
  },
  {
   "cell_type": "markdown",
   "metadata": {},
   "source": []
  }
 ],
 "metadata": {
  "accelerator": "GPU",
  "colab": {
   "gpuType": "T4",
   "provenance": []
  },
  "kernelspec": {
   "display_name": "total_segm",
   "language": "python",
   "name": "python3"
  },
  "language_info": {
   "codemirror_mode": {
    "name": "ipython",
    "version": 3
   },
   "file_extension": ".py",
   "mimetype": "text/x-python",
   "name": "python",
   "nbconvert_exporter": "python",
   "pygments_lexer": "ipython3",
   "version": "3.12.8"
  },
  "widgets": {
   "application/vnd.jupyter.widget-state+json": {
    "1fbbf0d2ef664cb9bc4e87327a6f6e05": {
     "model_module": "@jupyter-widgets/controls",
     "model_module_version": "1.5.0",
     "model_name": "DescriptionStyleModel",
     "state": {
      "_model_module": "@jupyter-widgets/controls",
      "_model_module_version": "1.5.0",
      "_model_name": "DescriptionStyleModel",
      "_view_count": null,
      "_view_module": "@jupyter-widgets/base",
      "_view_module_version": "1.2.0",
      "_view_name": "StyleView",
      "description_width": ""
     }
    },
    "3f9b006b843c4947a584972a2ed60f3f": {
     "model_module": "@jupyter-widgets/base",
     "model_module_version": "1.2.0",
     "model_name": "LayoutModel",
     "state": {
      "_model_module": "@jupyter-widgets/base",
      "_model_module_version": "1.2.0",
      "_model_name": "LayoutModel",
      "_view_count": null,
      "_view_module": "@jupyter-widgets/base",
      "_view_module_version": "1.2.0",
      "_view_name": "LayoutView",
      "align_content": null,
      "align_items": null,
      "align_self": null,
      "border": null,
      "bottom": null,
      "display": null,
      "flex": null,
      "flex_flow": null,
      "grid_area": null,
      "grid_auto_columns": null,
      "grid_auto_flow": null,
      "grid_auto_rows": null,
      "grid_column": null,
      "grid_gap": null,
      "grid_row": null,
      "grid_template_areas": null,
      "grid_template_columns": null,
      "grid_template_rows": null,
      "height": null,
      "justify_content": null,
      "justify_items": null,
      "left": null,
      "margin": null,
      "max_height": null,
      "max_width": null,
      "min_height": null,
      "min_width": null,
      "object_fit": null,
      "object_position": null,
      "order": null,
      "overflow": null,
      "overflow_x": null,
      "overflow_y": null,
      "padding": null,
      "right": null,
      "top": null,
      "visibility": null,
      "width": null
     }
    },
    "451fb9166b724d9fb77b7c5c80aa4464": {
     "model_module": "@jupyter-widgets/controls",
     "model_module_version": "1.5.0",
     "model_name": "HTMLModel",
     "state": {
      "_dom_classes": [],
      "_model_module": "@jupyter-widgets/controls",
      "_model_module_version": "1.5.0",
      "_model_name": "HTMLModel",
      "_view_count": null,
      "_view_module": "@jupyter-widgets/controls",
      "_view_module_version": "1.5.0",
      "_view_name": "HTMLView",
      "description": "",
      "description_tooltip": null,
      "layout": "IPY_MODEL_c57d578600604d168057c191880d983b",
      "placeholder": "​",
      "style": "IPY_MODEL_1fbbf0d2ef664cb9bc4e87327a6f6e05",
      "value": " 117/117 [00:13&lt;00:00, 10.07it/s]"
     }
    },
    "7f59e5b27a304371bc54c26cc3317271": {
     "model_module": "@jupyter-widgets/controls",
     "model_module_version": "1.5.0",
     "model_name": "DescriptionStyleModel",
     "state": {
      "_model_module": "@jupyter-widgets/controls",
      "_model_module_version": "1.5.0",
      "_model_name": "DescriptionStyleModel",
      "_view_count": null,
      "_view_module": "@jupyter-widgets/base",
      "_view_module_version": "1.2.0",
      "_view_name": "StyleView",
      "description_width": ""
     }
    },
    "a75257ef5c1d4525a095f4272552fce9": {
     "model_module": "@jupyter-widgets/controls",
     "model_module_version": "1.5.0",
     "model_name": "HTMLModel",
     "state": {
      "_dom_classes": [],
      "_model_module": "@jupyter-widgets/controls",
      "_model_module_version": "1.5.0",
      "_model_name": "HTMLModel",
      "_view_count": null,
      "_view_module": "@jupyter-widgets/controls",
      "_view_module_version": "1.5.0",
      "_view_name": "HTMLView",
      "description": "",
      "description_tooltip": null,
      "layout": "IPY_MODEL_aae7fc6845d34597aae249b3f89a6ef8",
      "placeholder": "​",
      "style": "IPY_MODEL_7f59e5b27a304371bc54c26cc3317271",
      "value": "100%"
     }
    },
    "a9dd47a4b0c94cfca958f1d3c1c21f91": {
     "model_module": "@jupyter-widgets/base",
     "model_module_version": "1.2.0",
     "model_name": "LayoutModel",
     "state": {
      "_model_module": "@jupyter-widgets/base",
      "_model_module_version": "1.2.0",
      "_model_name": "LayoutModel",
      "_view_count": null,
      "_view_module": "@jupyter-widgets/base",
      "_view_module_version": "1.2.0",
      "_view_name": "LayoutView",
      "align_content": null,
      "align_items": null,
      "align_self": null,
      "border": null,
      "bottom": null,
      "display": null,
      "flex": null,
      "flex_flow": null,
      "grid_area": null,
      "grid_auto_columns": null,
      "grid_auto_flow": null,
      "grid_auto_rows": null,
      "grid_column": null,
      "grid_gap": null,
      "grid_row": null,
      "grid_template_areas": null,
      "grid_template_columns": null,
      "grid_template_rows": null,
      "height": null,
      "justify_content": null,
      "justify_items": null,
      "left": null,
      "margin": null,
      "max_height": null,
      "max_width": null,
      "min_height": null,
      "min_width": null,
      "object_fit": null,
      "object_position": null,
      "order": null,
      "overflow": null,
      "overflow_x": null,
      "overflow_y": null,
      "padding": null,
      "right": null,
      "top": null,
      "visibility": null,
      "width": null
     }
    },
    "aae7fc6845d34597aae249b3f89a6ef8": {
     "model_module": "@jupyter-widgets/base",
     "model_module_version": "1.2.0",
     "model_name": "LayoutModel",
     "state": {
      "_model_module": "@jupyter-widgets/base",
      "_model_module_version": "1.2.0",
      "_model_name": "LayoutModel",
      "_view_count": null,
      "_view_module": "@jupyter-widgets/base",
      "_view_module_version": "1.2.0",
      "_view_name": "LayoutView",
      "align_content": null,
      "align_items": null,
      "align_self": null,
      "border": null,
      "bottom": null,
      "display": null,
      "flex": null,
      "flex_flow": null,
      "grid_area": null,
      "grid_auto_columns": null,
      "grid_auto_flow": null,
      "grid_auto_rows": null,
      "grid_column": null,
      "grid_gap": null,
      "grid_row": null,
      "grid_template_areas": null,
      "grid_template_columns": null,
      "grid_template_rows": null,
      "height": null,
      "justify_content": null,
      "justify_items": null,
      "left": null,
      "margin": null,
      "max_height": null,
      "max_width": null,
      "min_height": null,
      "min_width": null,
      "object_fit": null,
      "object_position": null,
      "order": null,
      "overflow": null,
      "overflow_x": null,
      "overflow_y": null,
      "padding": null,
      "right": null,
      "top": null,
      "visibility": null,
      "width": null
     }
    },
    "c57d578600604d168057c191880d983b": {
     "model_module": "@jupyter-widgets/base",
     "model_module_version": "1.2.0",
     "model_name": "LayoutModel",
     "state": {
      "_model_module": "@jupyter-widgets/base",
      "_model_module_version": "1.2.0",
      "_model_name": "LayoutModel",
      "_view_count": null,
      "_view_module": "@jupyter-widgets/base",
      "_view_module_version": "1.2.0",
      "_view_name": "LayoutView",
      "align_content": null,
      "align_items": null,
      "align_self": null,
      "border": null,
      "bottom": null,
      "display": null,
      "flex": null,
      "flex_flow": null,
      "grid_area": null,
      "grid_auto_columns": null,
      "grid_auto_flow": null,
      "grid_auto_rows": null,
      "grid_column": null,
      "grid_gap": null,
      "grid_row": null,
      "grid_template_areas": null,
      "grid_template_columns": null,
      "grid_template_rows": null,
      "height": null,
      "justify_content": null,
      "justify_items": null,
      "left": null,
      "margin": null,
      "max_height": null,
      "max_width": null,
      "min_height": null,
      "min_width": null,
      "object_fit": null,
      "object_position": null,
      "order": null,
      "overflow": null,
      "overflow_x": null,
      "overflow_y": null,
      "padding": null,
      "right": null,
      "top": null,
      "visibility": null,
      "width": null
     }
    },
    "ec38b62dc1304dd4b944e79d9e73015e": {
     "model_module": "@jupyter-widgets/controls",
     "model_module_version": "1.5.0",
     "model_name": "HBoxModel",
     "state": {
      "_dom_classes": [],
      "_model_module": "@jupyter-widgets/controls",
      "_model_module_version": "1.5.0",
      "_model_name": "HBoxModel",
      "_view_count": null,
      "_view_module": "@jupyter-widgets/controls",
      "_view_module_version": "1.5.0",
      "_view_name": "HBoxView",
      "box_style": "",
      "children": [
       "IPY_MODEL_a75257ef5c1d4525a095f4272552fce9",
       "IPY_MODEL_f532929637904b00828bacb86728fd44",
       "IPY_MODEL_451fb9166b724d9fb77b7c5c80aa4464"
      ],
      "layout": "IPY_MODEL_a9dd47a4b0c94cfca958f1d3c1c21f91"
     }
    },
    "f532929637904b00828bacb86728fd44": {
     "model_module": "@jupyter-widgets/controls",
     "model_module_version": "1.5.0",
     "model_name": "FloatProgressModel",
     "state": {
      "_dom_classes": [],
      "_model_module": "@jupyter-widgets/controls",
      "_model_module_version": "1.5.0",
      "_model_name": "FloatProgressModel",
      "_view_count": null,
      "_view_module": "@jupyter-widgets/controls",
      "_view_module_version": "1.5.0",
      "_view_name": "ProgressView",
      "bar_style": "success",
      "description": "",
      "description_tooltip": null,
      "layout": "IPY_MODEL_3f9b006b843c4947a584972a2ed60f3f",
      "max": 117,
      "min": 0,
      "orientation": "horizontal",
      "style": "IPY_MODEL_f7a56ef60f6c4456b3e33c3a988eb9ac",
      "value": 117
     }
    },
    "f7a56ef60f6c4456b3e33c3a988eb9ac": {
     "model_module": "@jupyter-widgets/controls",
     "model_module_version": "1.5.0",
     "model_name": "ProgressStyleModel",
     "state": {
      "_model_module": "@jupyter-widgets/controls",
      "_model_module_version": "1.5.0",
      "_model_name": "ProgressStyleModel",
      "_view_count": null,
      "_view_module": "@jupyter-widgets/base",
      "_view_module_version": "1.2.0",
      "_view_name": "StyleView",
      "bar_color": null,
      "description_width": ""
     }
    }
   }
  }
 },
 "nbformat": 4,
 "nbformat_minor": 0
}
