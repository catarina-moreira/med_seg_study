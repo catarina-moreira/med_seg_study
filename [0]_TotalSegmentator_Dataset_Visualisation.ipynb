{
 "cells": [
  {
   "cell_type": "markdown",
   "metadata": {},
   "source": [
    "# Total Segmentator Dataset Exploration and Visualisation"
   ]
  },
  {
   "cell_type": "code",
   "execution_count": 1,
   "metadata": {},
   "outputs": [],
   "source": [
    "COLAB = False\n",
    "\n",
    "if COLAB:\n",
    "    from google.colab import drive\n",
    "    drive.mount('/content/drive', force_remount=True)\n",
    "\n",
    "from IPython.display import HTML\n",
    "import pyvista as pv\n",
    "\n",
    "import os\n",
    "from utils.filepaths import *\n",
    "\n",
    "from eval.metrics import *\n",
    "from utils.data_processing import *\n",
    "from utils.data_viz import *\n",
    "from utils.data_geometry import *\n",
    "\n",
    "%matplotlib inline"
   ]
  },
  {
   "cell_type": "code",
   "execution_count": 2,
   "metadata": {},
   "outputs": [
    {
     "name": "stderr",
     "output_type": "stream",
     "text": [
      "Enabling notebook extension jupyter-matplotlib/extension...\n",
      "      - Validating: ok\n"
     ]
    }
   ],
   "source": [
    "!jupyter nbextension enable --py --sys-prefix ipympl\n"
   ]
  },
  {
   "cell_type": "code",
   "execution_count": 3,
   "metadata": {},
   "outputs": [
    {
     "name": "stdout",
     "output_type": "stream",
     "text": [
      "HOME:  c:\\Users\\cmore\\Documents\\GitHub\\med_seg_study\n",
      "DATA_PATH:  D:\\Totalsegmentator_dataset_v201\n",
      "PREDICTIONS_PATH:  c:\\Users\\cmore\\Documents\\GitHub\\med_seg_study\\outputs\\Predictions\n"
     ]
    }
   ],
   "source": [
    "\n",
    "HOME = os.getcwd()\n",
    "os.chdir(HOME)\n",
    "\n",
    "DATA_PATH = TOTAL_SEGM_PATH\n",
    "PREDICTIONS_PATH = os.path.join(HOME, \"outputs\", \"Predictions\")\n",
    "\n",
    "print(\"HOME: \", HOME)\n",
    "print(\"DATA_PATH: \", DATA_PATH)\n",
    "print(\"PREDICTIONS_PATH: \", PREDICTIONS_PATH)\n"
   ]
  },
  {
   "cell_type": "markdown",
   "metadata": {},
   "source": [
    "## 3D Reconstruction from CT Scan Mask"
   ]
  },
  {
   "cell_type": "markdown",
   "metadata": {},
   "source": [
    "### S0001"
   ]
  },
  {
   "cell_type": "code",
   "execution_count": 4,
   "metadata": {},
   "outputs": [],
   "source": [
    "dataset = \"Totalsegmentator_dataset_v201\"\n",
    "patient_ID = \"s0001\"\n",
    "organ = \"colon\"\n",
    "\n",
    "ct_scan_filepath = os.path.join(DATA_PATH, patient_ID, \"ct.nii.gz\")\n",
    "ct_scan_output_path = os.path.join(\"outputs\", \"gifs\",  f\"{patient_ID}_ct.gif\" )\n",
    "\n",
    "mask_filepath = os.path.join(DATA_PATH, patient_ID, \"segmentations\", f\"{organ}.nii.gz\")\n",
    "output_mask_filepath = os.path.join(HOME, \"outputs\", \"gifs\",  f\"{patient_ID}_{organ}.gif\")"
   ]
  },
  {
   "cell_type": "code",
   "execution_count": 5,
   "metadata": {},
   "outputs": [
    {
     "data": {
      "text/html": [
       "\n",
       "    <div style=\"display: flex; justify-content: center;\">\n",
       "        <img src=\"outputs/gifs/s0001_ct.gif\" style=\"width: 400px; height: auto;\" loop />\n",
       "    </div>\n",
       "    "
      ],
      "text/plain": [
       "<IPython.core.display.HTML object>"
      ]
     },
     "metadata": {},
     "output_type": "display_data"
    }
   ],
   "source": [
    "GENERATE_GIF = False\n",
    "ct_scan_gif = [ generate_gif(ct_scan_filepath, output_filepath=patient_ID + \"_ct.gif\") if GENERATE_GIF else ct_scan_output_path ][0] \n",
    "visualize_gif(ct_scan_gif)"
   ]
  },
  {
   "cell_type": "code",
   "execution_count": 6,
   "metadata": {},
   "outputs": [
    {
     "name": "stdout",
     "output_type": "stream",
     "text": [
      "Saving mesh to c:\\Users\\cmore\\Documents\\GitHub\\med_seg_study\\outputs\\mesh\\s0001\\colon.nii.gz.obj\n",
      "Saving mesh to c:\\Users\\cmore\\Documents\\GitHub\\med_seg_study\\outputs\\3d_reconstruction\\s0001\\colon.nii.gz.html\n"
     ]
    },
    {
     "data": {
      "application/vnd.jupyter.widget-view+json": {
       "model_id": "ed5d31627b6b4f368839bd94a33ccf8d",
       "version_major": 2,
       "version_minor": 0
      },
      "text/plain": [
       "Widget(value='<iframe src=\"http://localhost:54252/index.html?ui=P_0x17f7f3dd7f0_0&reconnect=auto\" class=\"pyvis…"
      ]
     },
     "metadata": {},
     "output_type": "display_data"
    }
   ],
   "source": [
    "mesh = generate_3d_reconstruction(mask_filepath, id=patient_ID);\n",
    "reconstruction_path_GT = visualize_mesh(mesh, mask_filepath, id=patient_ID, opacity=1);"
   ]
  },
  {
   "cell_type": "markdown",
   "metadata": {},
   "source": [
    "### S0002"
   ]
  },
  {
   "cell_type": "code",
   "execution_count": 23,
   "metadata": {},
   "outputs": [],
   "source": [
    "dataset = \"Totalsegmentator_dataset_v201\"\n",
    "patient_ID = \"s0002\"\n",
    "organ = \"kidney_right\"\n",
    "\n",
    "ct_scan_filepath = os.path.join(DATA_PATH, patient_ID, \"ct.nii.gz\")\n",
    "ct_scan_output_path = os.path.join(\"outputs\", \"gifs\",  f\"{patient_ID}_ct.gif\" )\n",
    "\n",
    "mask_filepath = os.path.join(DATA_PATH, patient_ID, \"segmentations\", f\"{organ}.nii.gz\")\n",
    "output_mask_filepath = os.path.join(HOME, \"outputs\", \"gifs\",  f\"{patient_ID}_{organ}.gif\")"
   ]
  },
  {
   "cell_type": "code",
   "execution_count": 21,
   "metadata": {},
   "outputs": [
    {
     "data": {
      "text/html": [
       "\n",
       "    <div style=\"display: flex; justify-content: center;\">\n",
       "        <img src=\"outputs/gifs/s0002_ct.gif\" style=\"width: 400px; height: auto;\" loop />\n",
       "    </div>\n",
       "    "
      ],
      "text/plain": [
       "<IPython.core.display.HTML object>"
      ]
     },
     "metadata": {},
     "output_type": "display_data"
    }
   ],
   "source": [
    "%matplotlib widget\n",
    "GENERATE_GIF = False\n",
    "ct_scan_gif = [ generate_gif(ct_scan_filepath, output_filepath=patient_ID + \"_ct.gif\") if GENERATE_GIF else ct_scan_output_path ][0] \n",
    "visualize_gif(ct_scan_gif)"
   ]
  },
  {
   "cell_type": "code",
   "execution_count": null,
   "metadata": {},
   "outputs": [],
   "source": [
    "\n",
    "mesh = generate_3d_reconstruction(mask_filepath, id=patient_ID);\n",
    "reconstruction_path_GT = visualize_mesh(mesh, mask_filepath, id=patient_ID, opacity=1);"
   ]
  },
  {
   "cell_type": "markdown",
   "metadata": {},
   "source": [
    "### S0003\n"
   ]
  },
  {
   "cell_type": "code",
   "execution_count": 13,
   "metadata": {},
   "outputs": [],
   "source": [
    "dataset = \"Totalsegmentator_dataset_v201\"\n",
    "patient_ID = \"s0003\"\n",
    "organ = \"colon\"\n",
    "\n",
    "ct_scan_filepath = os.path.join(DATA_PATH, patient_ID, \"ct.nii.gz\")\n",
    "ct_scan_output_path = os.path.join(\"outputs\", \"gifs\",  f\"{patient_ID}_ct.gif\" )\n",
    "\n",
    "mask_filepath = os.path.join(DATA_PATH, patient_ID, \"segmentations\", f\"{organ}.nii.gz\")\n",
    "output_mask_filepath = os.path.join(HOME, \"outputs\", \"gifs\",  f\"{patient_ID}_{organ}.gif\")"
   ]
  },
  {
   "cell_type": "code",
   "execution_count": 14,
   "metadata": {},
   "outputs": [
    {
     "data": {
      "text/html": [
       "\n",
       "    <div style=\"display: flex; justify-content: center;\">\n",
       "        <img src=\"outputs/gifs/s0003_ct.gif\" style=\"width: 400px; height: auto;\" loop />\n",
       "    </div>\n",
       "    "
      ],
      "text/plain": [
       "<IPython.core.display.HTML object>"
      ]
     },
     "metadata": {},
     "output_type": "display_data"
    }
   ],
   "source": [
    "%matplotlib widget\n",
    "GENERATE_GIF = True\n",
    "ct_scan_gif = [ generate_gif(ct_scan_filepath, output_filepath=patient_ID + \"_ct.gif\") if GENERATE_GIF else ct_scan_output_path ][0] \n",
    "visualize_gif(ct_scan_gif)"
   ]
  },
  {
   "cell_type": "code",
   "execution_count": null,
   "metadata": {},
   "outputs": [],
   "source": [
    "\n",
    "mesh = generate_3d_reconstruction(mask_filepath, id=patient_ID);\n",
    "reconstruction_path_GT = visualize_mesh(mesh, mask_filepath, id=patient_ID, opacity=1);"
   ]
  },
  {
   "cell_type": "markdown",
   "metadata": {},
   "source": [
    "### S0004"
   ]
  },
  {
   "cell_type": "code",
   "execution_count": 10,
   "metadata": {},
   "outputs": [],
   "source": [
    "dataset = \"Totalsegmentator_dataset_v201\"\n",
    "patient_ID = \"s0004\"\n",
    "organ = \"colon\"\n",
    "\n",
    "ct_scan_filepath = os.path.join(DATA_PATH, patient_ID, \"ct.nii.gz\")\n",
    "ct_scan_output_path = os.path.join(\"outputs\", \"gifs\",  f\"{patient_ID}_ct.gif\" )\n",
    "\n",
    "mask_filepath = os.path.join(DATA_PATH, patient_ID, \"segmentations\", f\"{organ}.nii.gz\")\n",
    "output_mask_filepath = os.path.join(HOME, \"outputs\", \"gifs\",  f\"{patient_ID}_{organ}.gif\")"
   ]
  },
  {
   "cell_type": "code",
   "execution_count": 11,
   "metadata": {},
   "outputs": [
    {
     "data": {
      "text/html": [
       "\n",
       "    <div style=\"display: flex; justify-content: center;\">\n",
       "        <img src=\"outputs/gifs/s0004_ct.gif\" style=\"width: 400px; height: auto;\" loop />\n",
       "    </div>\n",
       "    "
      ],
      "text/plain": [
       "<IPython.core.display.HTML object>"
      ]
     },
     "metadata": {},
     "output_type": "display_data"
    }
   ],
   "source": [
    "%matplotlib widget\n",
    "GENERATE_GIF = False\n",
    "ct_scan_gif = [ generate_gif(ct_scan_filepath, output_filepath=patient_ID + \"_ct.gif\") if GENERATE_GIF else ct_scan_output_path ][0] \n",
    "visualize_gif(ct_scan_gif)"
   ]
  },
  {
   "cell_type": "code",
   "execution_count": 12,
   "metadata": {},
   "outputs": [
    {
     "name": "stdout",
     "output_type": "stream",
     "text": [
      "Saving mesh to c:\\Users\\cmore\\Documents\\GitHub\\med_seg_study\\outputs\\mesh\\s0004\\colon.nii.gz.obj\n",
      "Saving mesh to c:\\Users\\cmore\\Documents\\GitHub\\med_seg_study\\outputs\\3d_reconstruction\\s0004\\colon.nii.gz.html\n"
     ]
    },
    {
     "data": {
      "application/vnd.jupyter.widget-view+json": {
       "model_id": "412590af5e0b4a9c8ba7fd96496b70bb",
       "version_major": 2,
       "version_minor": 0
      },
      "text/plain": [
       "Widget(value='<iframe src=\"http://localhost:54252/index.html?ui=P_0x17f03e12690_2&reconnect=auto\" class=\"pyvis…"
      ]
     },
     "metadata": {},
     "output_type": "display_data"
    }
   ],
   "source": [
    "\n",
    "mesh = generate_3d_reconstruction(mask_filepath, id=patient_ID);\n",
    "reconstruction_path_GT = visualize_mesh(mesh, mask_filepath, id=patient_ID, opacity=1);"
   ]
  }
 ],
 "metadata": {
  "kernelspec": {
   "display_name": "total_segm",
   "language": "python",
   "name": "python3"
  },
  "language_info": {
   "codemirror_mode": {
    "name": "ipython",
    "version": 3
   },
   "file_extension": ".py",
   "mimetype": "text/x-python",
   "name": "python",
   "nbconvert_exporter": "python",
   "pygments_lexer": "ipython3",
   "version": "3.12.8"
  }
 },
 "nbformat": 4,
 "nbformat_minor": 2
}
