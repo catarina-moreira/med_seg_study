{
 "cells": [
  {
   "cell_type": "markdown",
   "metadata": {
    "id": "bW_OkFKOz22k"
   },
   "source": [
    "# TOTAL SEGMENTATOR Notebook Study\n",
    "\n",
    "Note: if running in Google Colab, make sure you select T4 as the GPU"
   ]
  },
  {
   "cell_type": "markdown",
   "metadata": {},
   "source": [
    "## SETUP"
   ]
  },
  {
   "cell_type": "markdown",
   "metadata": {},
   "source": [
    "### Load Environment Variables"
   ]
  },
  {
   "cell_type": "code",
   "execution_count": 1,
   "metadata": {
    "colab": {
     "base_uri": "https://localhost:8080/"
    },
    "id": "6YTjNnia0CoI",
    "outputId": "13a0817e-f20e-4a17-9ac1-a01c475e207e"
   },
   "outputs": [],
   "source": [
    "COLAB = False\n",
    "\n",
    "if COLAB:\n",
    "    from google.colab import drive\n",
    "    drive.mount('/content/drive', force_remount=True)"
   ]
  },
  {
   "cell_type": "code",
   "execution_count": 2,
   "metadata": {},
   "outputs": [
    {
     "name": "stdout",
     "output_type": "stream",
     "text": [
      "HOME:  /Users/162191/Documents/GitHub/med_seg_study\n",
      "DATA_PATH:  /Volumes/Untitled/Totalsegmentator_dataset_v201\n",
      "PREDICTIONS_PATH:  /Users/162191/Documents/GitHub/med_seg_study/outputs/Predictions\n"
     ]
    }
   ],
   "source": [
    "import os\n",
    "from utils.filepaths import *\n",
    "\n",
    "HOME = os.getcwd()\n",
    "os.chdir(HOME)\n",
    "\n",
    "DATA_PATH = TOTAL_SEGM_PATH\n",
    "PREDICTIONS_PATH = f\"{HOME}/outputs/Predictions\"\n",
    "\n",
    "print(\"HOME: \", HOME)\n",
    "print(\"DATA_PATH: \", DATA_PATH)\n",
    "print(\"PREDICTIONS_PATH: \", PREDICTIONS_PATH)\n"
   ]
  },
  {
   "cell_type": "markdown",
   "metadata": {},
   "source": [
    "### Install Packages"
   ]
  },
  {
   "cell_type": "markdown",
   "metadata": {},
   "source": [
    "### Imports"
   ]
  },
  {
   "cell_type": "code",
   "execution_count": 3,
   "metadata": {},
   "outputs": [],
   "source": [
    "import os\n",
    "from totalsegmentator.python_api import totalsegmentator\n",
    "\n"
   ]
  },
  {
   "cell_type": "code",
   "execution_count": 3,
   "metadata": {},
   "outputs": [
    {
     "name": "stdout",
     "output_type": "stream",
     "text": [
      "Pandas version:  2.2.3\n",
      "Numpy version:  1.26.4\n"
     ]
    }
   ],
   "source": [
    "# check pandas and numpy versions\n",
    "import pandas as pd\n",
    "import numpy as np\n",
    "\n",
    "print(\"Pandas version: \", pd.__version__)\n",
    "print(\"Numpy version: \", np.__version__)\n"
   ]
  },
  {
   "cell_type": "markdown",
   "metadata": {
    "id": "4Wkd7CU8IYBQ"
   },
   "source": [
    "## Total Segmentator Example"
   ]
  },
  {
   "cell_type": "code",
   "execution_count": 9,
   "metadata": {
    "colab": {
     "base_uri": "https://localhost:8080/"
    },
    "id": "Z9EXvjaiSYc5",
    "outputId": "debfe40d-60ea-4cdc-a89d-3c328e1e042f"
   },
   "outputs": [
    {
     "name": "stdout",
     "output_type": "stream",
     "text": [
      "Output directory:  /Users/162191/Documents/GitHub/med_seg_study/outputs/Predictions/MSc\n"
     ]
    }
   ],
   "source": [
    "\n",
    "patient_ID = \"MSc\"\n",
    "organ = \"colon\"\n",
    "\n",
    "output_dir = os.path.join(PREDICTIONS_PATH, patient_ID)\n",
    "\n",
    "print(\"Output directory: \", output_dir)\n",
    "\n",
    "# Ensure output directory exists\n",
    "os.makedirs(output_dir, exist_ok=True)\n",
    "\n"
   ]
  },
  {
   "cell_type": "markdown",
   "metadata": {},
   "source": [
    "### Full Body Segmentation"
   ]
  },
  {
   "cell_type": "markdown",
   "metadata": {},
   "source": [
    "An online tool can be found here: https://totalsegmentator.com/"
   ]
  },
  {
   "cell_type": "code",
   "execution_count": 10,
   "metadata": {},
   "outputs": [
    {
     "name": "stdout",
     "output_type": "stream",
     "text": [
      "Input image path:  input/Data/ct_scan/afonso_msc.nii.gz\n"
     ]
    }
   ],
   "source": [
    "input_image_path = os.path.join(\"input\", \"Data\", \"ct_scan\", \"afonso_msc.nii.gz\")\n",
    "print(\"Input image path: \", input_image_path)"
   ]
  },
  {
   "cell_type": "code",
   "execution_count": 11,
   "metadata": {},
   "outputs": [
    {
     "name": "stdout",
     "output_type": "stream",
     "text": [
      "Shape: (512, 512, 460), Data Type: float64\n"
     ]
    },
    {
     "data": {
      "text/html": [
       "\n",
       "    <div style=\"display: flex; justify-content: center;\">\n",
       "        <img src=\"outputs/gifs/MSc_ct.gif\" style=\"width: 400px; height: auto;\" loop />\n",
       "    </div>\n",
       "    "
      ],
      "text/plain": [
       "<IPython.core.display.HTML object>"
      ]
     },
     "metadata": {},
     "output_type": "display_data"
    }
   ],
   "source": [
    "GENERATE_GIF = True\n",
    "ct_scan_gif = [ generate_gif(input_image_path, output_filepath=patient_ID + \"_ct.gif\") if GENERATE_GIF else ct_scan_output_path ][0] \n",
    "visualize_gif(ct_scan_gif)"
   ]
  },
  {
   "cell_type": "code",
   "execution_count": 11,
   "metadata": {
    "colab": {
     "base_uri": "https://localhost:8080/",
     "height": 444,
     "referenced_widgets": [
      "ec38b62dc1304dd4b944e79d9e73015e",
      "a75257ef5c1d4525a095f4272552fce9",
      "f532929637904b00828bacb86728fd44",
      "451fb9166b724d9fb77b7c5c80aa4464",
      "a9dd47a4b0c94cfca958f1d3c1c21f91",
      "aae7fc6845d34597aae249b3f89a6ef8",
      "7f59e5b27a304371bc54c26cc3317271",
      "3f9b006b843c4947a584972a2ed60f3f",
      "f7a56ef60f6c4456b3e33c3a988eb9ac",
      "c57d578600604d168057c191880d983b",
      "1fbbf0d2ef664cb9bc4e87327a6f6e05"
     ]
    },
    "id": "SWpM0TK8P9CK",
    "outputId": "7342da75-1e81-4d07-bac7-b78f477cdfb5"
   },
   "outputs": [
    {
     "name": "stderr",
     "output_type": "stream",
     "text": [
      "100%|██████████| 48/48 [04:44<00:00,  5.93s/it]\n",
      "100%|██████████| 48/48 [04:47<00:00,  6.00s/it]\n",
      "100%|██████████| 48/48 [04:43<00:00,  5.91s/it]\n",
      "100%|██████████| 48/48 [04:45<00:00,  5.94s/it]\n",
      "100%|██████████| 48/48 [04:42<00:00,  5.88s/it]\n"
     ]
    },
    {
     "data": {
      "application/vnd.jupyter.widget-view+json": {
       "model_id": "a0a58c6dcfc544ff8341fb20d8e37e0e",
       "version_major": 2,
       "version_minor": 0
      },
      "text/plain": [
       "  0%|          | 0/117 [00:00<?, ?it/s]"
      ]
     },
     "metadata": {},
     "output_type": "display_data"
    }
   ],
   "source": [
    "# Define task and device\n",
    "task = \"total\"       # Full-body segmentation\n",
    "device = \"gpu\"       # Set to \"mps\" if using a mac with an M1 > chip, \n",
    "                     #\"gpu\" if available, otherwise \"cpu\"\n",
    "\n",
    "try:\n",
    "  seg_img, stats = totalsegmentator(input=input_image_path,\n",
    "                                    output=output_dir,\n",
    "                                    task=task,\n",
    "                                    device=device,\n",
    "                                    statistics=False)\n",
    "except TypeError as e:\n",
    "  print(f\"An error occurred: {e}\")\n",
    "\n",
    "print(\"Segmentation Complete.\")\n"
   ]
  },
  {
   "cell_type": "markdown",
   "metadata": {},
   "source": [
    "### Colon Segmentation Visualiation"
   ]
  },
  {
   "cell_type": "code",
   "execution_count": 6,
   "metadata": {},
   "outputs": [],
   "source": [
    "\n",
    "import os\n",
    "from utils.filepaths import *\n",
    "\n",
    "from eval.metrics import *\n",
    "from utils.data_processing import *\n",
    "from utils.data_viz import *\n",
    "from utils.data_geometry import *"
   ]
  },
  {
   "cell_type": "code",
   "execution_count": null,
   "metadata": {},
   "outputs": [],
   "source": [
    "from IPython.display import HTML\n",
    "\n",
    "predicted_mask_filepath = \"/Users/162191/Documents/GitHub/med_seg_study/outputs/Predictions/MSc/colon.nii.gz\"\n",
    "\n",
    "mesh_PR = generate_3d_reconstruction(predicted_mask_filepath, id=patient_ID, isPrediction=True);\n",
    "reconstruction_path_PR = visualize_mesh(mesh_PR, predicted_mask_filepath, id=patient_ID, opacity=1, isPrediction=True);\n",
    "display(HTML(reconstruction_path_PR));\n",
    "plt.close()\n",
    "\n"
   ]
  },
  {
   "cell_type": "markdown",
   "metadata": {},
   "source": []
  }
 ],
 "metadata": {
  "accelerator": "GPU",
  "colab": {
   "gpuType": "T4",
   "provenance": []
  },
  "kernelspec": {
   "display_name": "Python 3",
   "language": "python",
   "name": "python3"
  },
  "language_info": {
   "codemirror_mode": {
    "name": "ipython",
    "version": 3
   },
   "file_extension": ".py",
   "mimetype": "text/x-python",
   "name": "python",
   "nbconvert_exporter": "python",
   "pygments_lexer": "ipython3",
   "version": "3.11.9"
  },
  "widgets": {
   "application/vnd.jupyter.widget-state+json": {
    "1fbbf0d2ef664cb9bc4e87327a6f6e05": {
     "model_module": "@jupyter-widgets/controls",
     "model_module_version": "1.5.0",
     "model_name": "DescriptionStyleModel",
     "state": {
      "_model_module": "@jupyter-widgets/controls",
      "_model_module_version": "1.5.0",
      "_model_name": "DescriptionStyleModel",
      "_view_count": null,
      "_view_module": "@jupyter-widgets/base",
      "_view_module_version": "1.2.0",
      "_view_name": "StyleView",
      "description_width": ""
     }
    },
    "3f9b006b843c4947a584972a2ed60f3f": {
     "model_module": "@jupyter-widgets/base",
     "model_module_version": "1.2.0",
     "model_name": "LayoutModel",
     "state": {
      "_model_module": "@jupyter-widgets/base",
      "_model_module_version": "1.2.0",
      "_model_name": "LayoutModel",
      "_view_count": null,
      "_view_module": "@jupyter-widgets/base",
      "_view_module_version": "1.2.0",
      "_view_name": "LayoutView",
      "align_content": null,
      "align_items": null,
      "align_self": null,
      "border": null,
      "bottom": null,
      "display": null,
      "flex": null,
      "flex_flow": null,
      "grid_area": null,
      "grid_auto_columns": null,
      "grid_auto_flow": null,
      "grid_auto_rows": null,
      "grid_column": null,
      "grid_gap": null,
      "grid_row": null,
      "grid_template_areas": null,
      "grid_template_columns": null,
      "grid_template_rows": null,
      "height": null,
      "justify_content": null,
      "justify_items": null,
      "left": null,
      "margin": null,
      "max_height": null,
      "max_width": null,
      "min_height": null,
      "min_width": null,
      "object_fit": null,
      "object_position": null,
      "order": null,
      "overflow": null,
      "overflow_x": null,
      "overflow_y": null,
      "padding": null,
      "right": null,
      "top": null,
      "visibility": null,
      "width": null
     }
    },
    "451fb9166b724d9fb77b7c5c80aa4464": {
     "model_module": "@jupyter-widgets/controls",
     "model_module_version": "1.5.0",
     "model_name": "HTMLModel",
     "state": {
      "_dom_classes": [],
      "_model_module": "@jupyter-widgets/controls",
      "_model_module_version": "1.5.0",
      "_model_name": "HTMLModel",
      "_view_count": null,
      "_view_module": "@jupyter-widgets/controls",
      "_view_module_version": "1.5.0",
      "_view_name": "HTMLView",
      "description": "",
      "description_tooltip": null,
      "layout": "IPY_MODEL_c57d578600604d168057c191880d983b",
      "placeholder": "​",
      "style": "IPY_MODEL_1fbbf0d2ef664cb9bc4e87327a6f6e05",
      "value": " 117/117 [00:13&lt;00:00, 10.07it/s]"
     }
    },
    "7f59e5b27a304371bc54c26cc3317271": {
     "model_module": "@jupyter-widgets/controls",
     "model_module_version": "1.5.0",
     "model_name": "DescriptionStyleModel",
     "state": {
      "_model_module": "@jupyter-widgets/controls",
      "_model_module_version": "1.5.0",
      "_model_name": "DescriptionStyleModel",
      "_view_count": null,
      "_view_module": "@jupyter-widgets/base",
      "_view_module_version": "1.2.0",
      "_view_name": "StyleView",
      "description_width": ""
     }
    },
    "a75257ef5c1d4525a095f4272552fce9": {
     "model_module": "@jupyter-widgets/controls",
     "model_module_version": "1.5.0",
     "model_name": "HTMLModel",
     "state": {
      "_dom_classes": [],
      "_model_module": "@jupyter-widgets/controls",
      "_model_module_version": "1.5.0",
      "_model_name": "HTMLModel",
      "_view_count": null,
      "_view_module": "@jupyter-widgets/controls",
      "_view_module_version": "1.5.0",
      "_view_name": "HTMLView",
      "description": "",
      "description_tooltip": null,
      "layout": "IPY_MODEL_aae7fc6845d34597aae249b3f89a6ef8",
      "placeholder": "​",
      "style": "IPY_MODEL_7f59e5b27a304371bc54c26cc3317271",
      "value": "100%"
     }
    },
    "a9dd47a4b0c94cfca958f1d3c1c21f91": {
     "model_module": "@jupyter-widgets/base",
     "model_module_version": "1.2.0",
     "model_name": "LayoutModel",
     "state": {
      "_model_module": "@jupyter-widgets/base",
      "_model_module_version": "1.2.0",
      "_model_name": "LayoutModel",
      "_view_count": null,
      "_view_module": "@jupyter-widgets/base",
      "_view_module_version": "1.2.0",
      "_view_name": "LayoutView",
      "align_content": null,
      "align_items": null,
      "align_self": null,
      "border": null,
      "bottom": null,
      "display": null,
      "flex": null,
      "flex_flow": null,
      "grid_area": null,
      "grid_auto_columns": null,
      "grid_auto_flow": null,
      "grid_auto_rows": null,
      "grid_column": null,
      "grid_gap": null,
      "grid_row": null,
      "grid_template_areas": null,
      "grid_template_columns": null,
      "grid_template_rows": null,
      "height": null,
      "justify_content": null,
      "justify_items": null,
      "left": null,
      "margin": null,
      "max_height": null,
      "max_width": null,
      "min_height": null,
      "min_width": null,
      "object_fit": null,
      "object_position": null,
      "order": null,
      "overflow": null,
      "overflow_x": null,
      "overflow_y": null,
      "padding": null,
      "right": null,
      "top": null,
      "visibility": null,
      "width": null
     }
    },
    "aae7fc6845d34597aae249b3f89a6ef8": {
     "model_module": "@jupyter-widgets/base",
     "model_module_version": "1.2.0",
     "model_name": "LayoutModel",
     "state": {
      "_model_module": "@jupyter-widgets/base",
      "_model_module_version": "1.2.0",
      "_model_name": "LayoutModel",
      "_view_count": null,
      "_view_module": "@jupyter-widgets/base",
      "_view_module_version": "1.2.0",
      "_view_name": "LayoutView",
      "align_content": null,
      "align_items": null,
      "align_self": null,
      "border": null,
      "bottom": null,
      "display": null,
      "flex": null,
      "flex_flow": null,
      "grid_area": null,
      "grid_auto_columns": null,
      "grid_auto_flow": null,
      "grid_auto_rows": null,
      "grid_column": null,
      "grid_gap": null,
      "grid_row": null,
      "grid_template_areas": null,
      "grid_template_columns": null,
      "grid_template_rows": null,
      "height": null,
      "justify_content": null,
      "justify_items": null,
      "left": null,
      "margin": null,
      "max_height": null,
      "max_width": null,
      "min_height": null,
      "min_width": null,
      "object_fit": null,
      "object_position": null,
      "order": null,
      "overflow": null,
      "overflow_x": null,
      "overflow_y": null,
      "padding": null,
      "right": null,
      "top": null,
      "visibility": null,
      "width": null
     }
    },
    "c57d578600604d168057c191880d983b": {
     "model_module": "@jupyter-widgets/base",
     "model_module_version": "1.2.0",
     "model_name": "LayoutModel",
     "state": {
      "_model_module": "@jupyter-widgets/base",
      "_model_module_version": "1.2.0",
      "_model_name": "LayoutModel",
      "_view_count": null,
      "_view_module": "@jupyter-widgets/base",
      "_view_module_version": "1.2.0",
      "_view_name": "LayoutView",
      "align_content": null,
      "align_items": null,
      "align_self": null,
      "border": null,
      "bottom": null,
      "display": null,
      "flex": null,
      "flex_flow": null,
      "grid_area": null,
      "grid_auto_columns": null,
      "grid_auto_flow": null,
      "grid_auto_rows": null,
      "grid_column": null,
      "grid_gap": null,
      "grid_row": null,
      "grid_template_areas": null,
      "grid_template_columns": null,
      "grid_template_rows": null,
      "height": null,
      "justify_content": null,
      "justify_items": null,
      "left": null,
      "margin": null,
      "max_height": null,
      "max_width": null,
      "min_height": null,
      "min_width": null,
      "object_fit": null,
      "object_position": null,
      "order": null,
      "overflow": null,
      "overflow_x": null,
      "overflow_y": null,
      "padding": null,
      "right": null,
      "top": null,
      "visibility": null,
      "width": null
     }
    },
    "ec38b62dc1304dd4b944e79d9e73015e": {
     "model_module": "@jupyter-widgets/controls",
     "model_module_version": "1.5.0",
     "model_name": "HBoxModel",
     "state": {
      "_dom_classes": [],
      "_model_module": "@jupyter-widgets/controls",
      "_model_module_version": "1.5.0",
      "_model_name": "HBoxModel",
      "_view_count": null,
      "_view_module": "@jupyter-widgets/controls",
      "_view_module_version": "1.5.0",
      "_view_name": "HBoxView",
      "box_style": "",
      "children": [
       "IPY_MODEL_a75257ef5c1d4525a095f4272552fce9",
       "IPY_MODEL_f532929637904b00828bacb86728fd44",
       "IPY_MODEL_451fb9166b724d9fb77b7c5c80aa4464"
      ],
      "layout": "IPY_MODEL_a9dd47a4b0c94cfca958f1d3c1c21f91"
     }
    },
    "f532929637904b00828bacb86728fd44": {
     "model_module": "@jupyter-widgets/controls",
     "model_module_version": "1.5.0",
     "model_name": "FloatProgressModel",
     "state": {
      "_dom_classes": [],
      "_model_module": "@jupyter-widgets/controls",
      "_model_module_version": "1.5.0",
      "_model_name": "FloatProgressModel",
      "_view_count": null,
      "_view_module": "@jupyter-widgets/controls",
      "_view_module_version": "1.5.0",
      "_view_name": "ProgressView",
      "bar_style": "success",
      "description": "",
      "description_tooltip": null,
      "layout": "IPY_MODEL_3f9b006b843c4947a584972a2ed60f3f",
      "max": 117,
      "min": 0,
      "orientation": "horizontal",
      "style": "IPY_MODEL_f7a56ef60f6c4456b3e33c3a988eb9ac",
      "value": 117
     }
    },
    "f7a56ef60f6c4456b3e33c3a988eb9ac": {
     "model_module": "@jupyter-widgets/controls",
     "model_module_version": "1.5.0",
     "model_name": "ProgressStyleModel",
     "state": {
      "_model_module": "@jupyter-widgets/controls",
      "_model_module_version": "1.5.0",
      "_model_name": "ProgressStyleModel",
      "_view_count": null,
      "_view_module": "@jupyter-widgets/base",
      "_view_module_version": "1.2.0",
      "_view_name": "StyleView",
      "bar_color": null,
      "description_width": ""
     }
    }
   }
  }
 },
 "nbformat": 4,
 "nbformat_minor": 0
}
